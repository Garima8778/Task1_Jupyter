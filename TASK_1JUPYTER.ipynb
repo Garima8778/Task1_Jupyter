{
 "cells": [
  {
   "cell_type": "markdown",
   "id": "6339de30-db34-43b5-8f14-d71d2d4335e1",
   "metadata": {},
   "source": [
    "## 1.HEADING\n",
    "## Jupyter Notebook Example\n",
    "## Subtitle\n",
    "This is an example notebook.\n",
    "\n",
    "1. This is item 1\n",
    "2. next is 2\n",
    "3. and then three"
   ]
  },
  {
   "cell_type": "markdown",
   "id": "7a355c48-7741-4711-aaf8-7f022672a9fd",
   "metadata": {},
   "source": [
    "## 2.Blockquotes\n"
   ]
  },
  {
   "cell_type": "markdown",
   "id": "4e2c4549-8a69-4677-a485-5ff0b23d62fa",
   "metadata": {},
   "source": [
    ">This is juypyter notebook."
   ]
  },
  {
   "cell_type": "markdown",
   "id": "cd505ced-a853-4804-b935-427295a9ca79",
   "metadata": {},
   "source": [
    "## 3.Mathematical symbols"
   ]
  },
  {
   "cell_type": "markdown",
   "id": "8c5c04e4-a778-41dc-aec0-ddf019107a0c",
   "metadata": {},
   "source": [
    "$\\sum$"
   ]
  },
  {
   "cell_type": "markdown",
   "id": "dd42410d-3f64-4edb-bd81-f54d8ade2d26",
   "metadata": {},
   "source": [
    "$\\forall$"
   ]
  },
  {
   "cell_type": "markdown",
   "id": "d00d41c4-faba-46b0-801a-d3ba6d190a15",
   "metadata": {},
   "source": [
    "## 4.Line break"
   ]
  },
  {
   "cell_type": "markdown",
   "id": "2c54b7e7-ea52-4399-a763-c199cf89fb67",
   "metadata": {},
   "source": [
    "The line breaks after using <br> br tags and it is awesome."
   ]
  },
  {
   "cell_type": "markdown",
   "id": "bb34db50-5fcf-4ed5-adb9-d363b9364277",
   "metadata": {},
   "source": [
    "## 5.Bold and Italic Text"
   ]
  },
  {
   "cell_type": "markdown",
   "id": "c7e1da9a-4f80-498c-a0b8-ea3601515e22",
   "metadata": {},
   "source": [
    "**Jupyter Bold Text**"
   ]
  },
  {
   "cell_type": "markdown",
   "id": "32b78e90-814c-4346-bcda-9c96d2915cfe",
   "metadata": {},
   "source": [
    "_Jupyter italic Text_"
   ]
  },
  {
   "cell_type": "markdown",
   "id": "f44c26d2-1053-4f1b-b3bc-339f91e7a20a",
   "metadata": {},
   "source": [
    "## 6.Horizontal Lines"
   ]
  },
  {
   "cell_type": "markdown",
   "id": "f2033c14-c587-43e4-84c9-03221142f29d",
   "metadata": {},
   "source": [
    "---\n",
    "Horizontal line syntax in Jupyter Notebook.\n",
    "\n",
    "---"
   ]
  },
  {
   "cell_type": "markdown",
   "id": "ced2b3e2-0791-4b36-b90a-0689ba4fe540",
   "metadata": {},
   "source": [
    "## 7.Ordered List"
   ]
  },
  {
   "cell_type": "markdown",
   "id": "fcebe741-da79-4a39-a5bd-5a3a74cd1a17",
   "metadata": {},
   "source": [
    "1. Python\n",
    "2. Java\n",
    "3. Julia\n",
    "\n",
    "<ol>\n",
    "<li>Python</li>\n",
    "<li>Java</li>\n",
    "<li>Julia</li>\n",
    "</ol>"
   ]
  },
  {
   "cell_type": "markdown",
   "id": "5569c5b7-854c-499c-9fc0-8134dd2e90eb",
   "metadata": {},
   "source": [
    "## 8.Unordered List "
   ]
  },
  {
   "attachments": {},
   "cell_type": "markdown",
   "id": "774a1bbe-2372-462d-a34d-19c044e0b5f0",
   "metadata": {},
   "source": [
    "- Java\n",
    "- Python\n",
    "- HTML\n",
    "\n",
    "<ul>\n",
    "<li>Java</li>\n",
    "<li>python</li>\n",
    "<li>HTML</LI>\n",
    "<ul>\n",
    "    "
   ]
  },
  {
   "cell_type": "markdown",
   "id": "f7a7a5fd-4d1a-4cdb-b9e9-3437aadd033a",
   "metadata": {},
   "source": []
  },
  {
   "cell_type": "markdown",
   "id": "adaeef40-4a60-4d74-8fca-8350117cc280",
   "metadata": {},
   "source": [
    "## 9.Print "
   ]
  },
  {
   "cell_type": "code",
   "execution_count": 96,
   "id": "15e7a4c5-bbc5-485e-84e9-fb7221f48721",
   "metadata": {},
   "outputs": [
    {
     "name": "stdout",
     "output_type": "stream",
     "text": [
      "Hello world\n"
     ]
    }
   ],
   "source": [
    "print('Hello world')"
   ]
  },
  {
   "cell_type": "markdown",
   "id": "9f94d649-6864-4073-9d95-8c1cec95baa0",
   "metadata": {},
   "source": [
    "## 10.Font Color "
   ]
  },
  {
   "cell_type": "markdown",
   "id": "1d8dfd56-51fb-40cf-987d-ead010cd5471",
   "metadata": {},
   "source": [
    "<p style=\"color:red;\">\n",
    "INDIA\n",
    "</p>"
   ]
  },
  {
   "cell_type": "markdown",
   "id": "d93fb1c5-6e02-40b2-ac8f-11f15939e8f3",
   "metadata": {},
   "source": [
    "## 11.Strikethrough"
   ]
  },
  {
   "cell_type": "markdown",
   "id": "b29b8668-6d8d-4bc5-ba85-55ada6a6e8a6",
   "metadata": {},
   "source": [
    "~~This is Jupyter.~~"
   ]
  },
  {
   "cell_type": "markdown",
   "id": "e233e9d0-87c3-451b-b662-ae89585ba353",
   "metadata": {},
   "source": [
    "## 12.Table"
   ]
  },
  {
   "cell_type": "markdown",
   "id": "66878b55-f804-4d75-86dc-e9aafca241a9",
   "metadata": {},
   "source": [
    "|Name|class|\n",
    "|----|-----|\n",
    "|xyz|5|\n",
    "|abc|4|"
   ]
  },
  {
   "cell_type": "markdown",
   "id": "b59ec253-0270-407c-a2bc-51d85b8fe925",
   "metadata": {},
   "source": [
    "## 13.Calculations"
   ]
  },
  {
   "cell_type": "code",
   "execution_count": 147,
   "id": "2fee42e1-d863-432b-9ab9-66e0ce395ec0",
   "metadata": {},
   "outputs": [
    {
     "data": {
      "text/plain": [
       "1"
      ]
     },
     "execution_count": 147,
     "metadata": {},
     "output_type": "execute_result"
    }
   ],
   "source": [
    "4+6-9"
   ]
  },
  {
   "cell_type": "markdown",
   "id": "8c219620-2d1e-4843-8cc5-e20d712646c7",
   "metadata": {},
   "source": [
    "## 14.Particular text highlight"
   ]
  },
  {
   "cell_type": "markdown",
   "id": "37f56330-b838-424a-84b1-ed248cd8d146",
   "metadata": {},
   "source": [
    "This is `Jupyter`."
   ]
  },
  {
   "cell_type": "markdown",
   "id": "a01998e1-12fd-43e2-b381-0719ec3c7dba",
   "metadata": {},
   "source": [
    "## 15. CHECKBOX"
   ]
  },
  {
   "cell_type": "markdown",
   "id": "a3b3754c-b90b-4611-8c27-468c161d126c",
   "metadata": {},
   "source": [
    "- [ ] CA\n",
    "- [X] SCIENCE\n",
    "- [ ] CS\n",
    "- [ ] BA\n",
    "- [X] B.E"
   ]
  },
  {
   "cell_type": "code",
   "execution_count": null,
   "id": "efa53a05-de5b-46c9-a720-2df3f7cd7829",
   "metadata": {},
   "outputs": [],
   "source": []
  }
 ],
 "metadata": {
  "kernelspec": {
   "display_name": "Python 3 (ipykernel)",
   "language": "python",
   "name": "python3"
  },
  "language_info": {
   "codemirror_mode": {
    "name": "ipython",
    "version": 3
   },
   "file_extension": ".py",
   "mimetype": "text/x-python",
   "name": "python",
   "nbconvert_exporter": "python",
   "pygments_lexer": "ipython3",
   "version": "3.12.4"
  }
 },
 "nbformat": 4,
 "nbformat_minor": 5
}
